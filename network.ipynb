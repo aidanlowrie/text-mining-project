{
 "cells": [
  {
   "cell_type": "code",
   "execution_count": 26,
   "id": "e1949410",
   "metadata": {},
   "outputs": [],
   "source": [
    "import pandas as pd\n",
    "\n",
    "df = pd.read_csv(\"data/genetics_filtered_surface_cooccurrences.csv\", encoding='UTF-8')"
   ]
  },
  {
   "cell_type": "code",
   "execution_count": 27,
   "id": "30610c7c",
   "metadata": {},
   "outputs": [
    {
     "data": {
      "text/html": [
       "<div>\n",
       "<style scoped>\n",
       "    .dataframe tbody tr th:only-of-type {\n",
       "        vertical-align: middle;\n",
       "    }\n",
       "\n",
       "    .dataframe tbody tr th {\n",
       "        vertical-align: top;\n",
       "    }\n",
       "\n",
       "    .dataframe thead th {\n",
       "        text-align: right;\n",
       "    }\n",
       "</style>\n",
       "<table border=\"1\" class=\"dataframe\">\n",
       "  <thead>\n",
       "    <tr style=\"text-align: right;\">\n",
       "      <th></th>\n",
       "      <th>Word1</th>\n",
       "      <th>Word2</th>\n",
       "      <th>Frequency</th>\n",
       "    </tr>\n",
       "  </thead>\n",
       "  <tbody>\n",
       "    <tr>\n",
       "      <th>0</th>\n",
       "      <td>aacute</td>\n",
       "      <td>aacute</td>\n",
       "      <td>17.010178</td>\n",
       "    </tr>\n",
       "    <tr>\n",
       "      <th>1</th>\n",
       "      <td>gerais</td>\n",
       "      <td>minas</td>\n",
       "      <td>16.993550</td>\n",
       "    </tr>\n",
       "    <tr>\n",
       "      <th>2</th>\n",
       "      <td>aires</td>\n",
       "      <td>buenos</td>\n",
       "      <td>16.988152</td>\n",
       "    </tr>\n",
       "    <tr>\n",
       "      <th>3</th>\n",
       "      <td>buenos</td>\n",
       "      <td>aires</td>\n",
       "      <td>16.977012</td>\n",
       "    </tr>\n",
       "    <tr>\n",
       "      <th>4</th>\n",
       "      <td>compostela</td>\n",
       "      <td>santiago</td>\n",
       "      <td>16.884648</td>\n",
       "    </tr>\n",
       "  </tbody>\n",
       "</table>\n",
       "</div>"
      ],
      "text/plain": [
       "        Word1     Word2  Frequency\n",
       "0      aacute    aacute  17.010178\n",
       "1      gerais     minas  16.993550\n",
       "2       aires    buenos  16.988152\n",
       "3      buenos     aires  16.977012\n",
       "4  compostela  santiago  16.884648"
      ]
     },
     "execution_count": 27,
     "metadata": {},
     "output_type": "execute_result"
    }
   ],
   "source": [
    "df.head()"
   ]
  },
  {
   "cell_type": "code",
   "execution_count": 28,
   "id": "ec37962b",
   "metadata": {},
   "outputs": [
    {
     "name": "stdout",
     "output_type": "stream",
     "text": [
      "[[ 0.          0.          0.         ...  0.          0.\n",
      "   0.        ]\n",
      " [ 0.         16.48934624  0.         ...  0.          0.\n",
      "   0.        ]\n",
      " [ 0.          0.         17.0101784  ...  0.          0.\n",
      "   0.        ]\n",
      " ...\n",
      " [ 0.          0.          0.         ... 14.13570929  0.\n",
      "   0.        ]\n",
      " [ 0.          0.          0.         ...  0.         14.96578428\n",
      "   0.        ]\n",
      " [ 0.          0.          0.         ...  0.          0.\n",
      "  16.17523765]]\n"
     ]
    }
   ],
   "source": [
    "import numpy as np\n",
    "\n",
    "# Getting vocab set.\n",
    "nodes = set()\n",
    "for word in set(df['Word1']).union(set(df['Word2'])):\n",
    "    nodes.add(word)\n",
    "nodes = sorted(list(nodes))\n",
    "    \n",
    "# Creating adjacency matrix.\n",
    "N = len(nodes)\n",
    "adjacency_matrix = np.zeros((N, N))\n",
    "\n",
    "for index, row in df.iterrows():\n",
    "    word1, word2, frequency = row['Word1'], row['Word2'], row['Frequency']\n",
    "    i, j = nodes.index(word1), nodes.index(word2)\n",
    "    adjacency_matrix[i, j] = adjacency_matrix[j, i] = frequency\n",
    "\n",
    "print(adjacency_matrix)\n",
    "    "
   ]
  },
  {
   "cell_type": "code",
   "execution_count": 29,
   "id": "498de5b8",
   "metadata": {},
   "outputs": [],
   "source": [
    "import networkx as nx\n",
    "\n",
    "G = nx.from_numpy_array(adjacency_matrix, create_using=nx.DiGraph())\n",
    "label_mapping = {i: label for i, label in enumerate(nodes)}\n",
    "G = nx.relabel_nodes(G, label_mapping)"
   ]
  },
  {
   "cell_type": "code",
   "execution_count": 30,
   "id": "41f663b4",
   "metadata": {},
   "outputs": [],
   "source": [
    "nx.write_graphml(G, \"graph.graphml\")"
   ]
  },
  {
   "cell_type": "code",
   "execution_count": null,
   "id": "933bfa48",
   "metadata": {},
   "outputs": [],
   "source": []
  }
 ],
 "metadata": {
  "kernelspec": {
   "display_name": "Python 3 (ipykernel)",
   "language": "python",
   "name": "python3"
  },
  "language_info": {
   "codemirror_mode": {
    "name": "ipython",
    "version": 3
   },
   "file_extension": ".py",
   "mimetype": "text/x-python",
   "name": "python",
   "nbconvert_exporter": "python",
   "pygments_lexer": "ipython3",
   "version": "3.11.1"
  }
 },
 "nbformat": 4,
 "nbformat_minor": 5
}
