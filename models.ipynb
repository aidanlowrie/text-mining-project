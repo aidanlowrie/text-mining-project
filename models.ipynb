{
 "cells": [
  {
   "cell_type": "markdown",
   "id": "12d06ce3",
   "metadata": {},
   "source": [
    "## Getting the Training Data"
   ]
  },
  {
   "cell_type": "code",
   "execution_count": 10,
   "id": "8a9bef49",
   "metadata": {},
   "outputs": [],
   "source": [
    "import pandas as pd\n",
    "\n",
    "data = []\n",
    "with open(\"data/DRUG-AE.rel\", \"r\") as f:\n",
    "    for line in f.readlines():\n",
    "        fields = line.strip().split(\"|\")\n",
    "        pubmed_id, sentence, adverse_effect, start_offset_dose, end_offset_dose, drug, start_offset_drug, end_offset_drug = fields\n",
    "        data.append([pubmed_id, sentence, adverse_effect, start_offset_dose, end_offset_dose, drug, start_offset_drug, end_offset_drug,])\n",
    "        \n",
    "with open(\"data/ADE-NEG.txt\", \"r\") as f:\n",
    "    for line in f.readlines():\n",
    "        fields = line.strip().split(\"NEG\")\n",
    "        pubmed_id, sentence = fields\n",
    "        data.append([pubmed_id, sentence, '', '', '', '', '', ''])\n",
    "\n",
    "# Create a pandas DataFrame from the parsed data\n",
    "columns = [\"PubMed_ID\", \"Sentence\", \"Adverse_Effect\", \"Start_Offset_Dose\", \n",
    "           \"End_Offset_Dose\", \"Drug\", \"Start_Offset_Drug\", \"End_Offset_Drug\"]\n",
    "df = pd.DataFrame(data, columns=columns)"
   ]
  },
  {
   "cell_type": "code",
   "execution_count": 11,
   "id": "5ac81094",
   "metadata": {},
   "outputs": [
    {
     "data": {
      "text/html": [
       "<div>\n",
       "<style scoped>\n",
       "    .dataframe tbody tr th:only-of-type {\n",
       "        vertical-align: middle;\n",
       "    }\n",
       "\n",
       "    .dataframe tbody tr th {\n",
       "        vertical-align: top;\n",
       "    }\n",
       "\n",
       "    .dataframe thead th {\n",
       "        text-align: right;\n",
       "    }\n",
       "</style>\n",
       "<table border=\"1\" class=\"dataframe\">\n",
       "  <thead>\n",
       "    <tr style=\"text-align: right;\">\n",
       "      <th></th>\n",
       "      <th>PubMed_ID</th>\n",
       "      <th>Sentence</th>\n",
       "      <th>Adverse_Effect</th>\n",
       "      <th>Start_Offset_Dose</th>\n",
       "      <th>End_Offset_Dose</th>\n",
       "      <th>Drug</th>\n",
       "      <th>Start_Offset_Drug</th>\n",
       "      <th>End_Offset_Drug</th>\n",
       "    </tr>\n",
       "  </thead>\n",
       "  <tbody>\n",
       "    <tr>\n",
       "      <th>0</th>\n",
       "      <td>10030778</td>\n",
       "      <td>Intravenous azithromycin-induced ototoxicity.</td>\n",
       "      <td>ototoxicity</td>\n",
       "      <td>43</td>\n",
       "      <td>54</td>\n",
       "      <td>azithromycin</td>\n",
       "      <td>22</td>\n",
       "      <td>34</td>\n",
       "    </tr>\n",
       "    <tr>\n",
       "      <th>1</th>\n",
       "      <td>10048291</td>\n",
       "      <td>Immobilization, while Paget's bone disease was...</td>\n",
       "      <td>increased calcium-release</td>\n",
       "      <td>960</td>\n",
       "      <td>985</td>\n",
       "      <td>dihydrotachysterol</td>\n",
       "      <td>908</td>\n",
       "      <td>926</td>\n",
       "    </tr>\n",
       "    <tr>\n",
       "      <th>2</th>\n",
       "      <td>10048291</td>\n",
       "      <td>Unaccountable severe hypercalcemia in a patien...</td>\n",
       "      <td>hypercalcemia</td>\n",
       "      <td>31</td>\n",
       "      <td>44</td>\n",
       "      <td>dihydrotachysterol</td>\n",
       "      <td>94</td>\n",
       "      <td>112</td>\n",
       "    </tr>\n",
       "    <tr>\n",
       "      <th>3</th>\n",
       "      <td>10082597</td>\n",
       "      <td>METHODS: We report two cases of pseudoporphyri...</td>\n",
       "      <td>pseudoporphyria</td>\n",
       "      <td>620</td>\n",
       "      <td>635</td>\n",
       "      <td>naproxen</td>\n",
       "      <td>646</td>\n",
       "      <td>654</td>\n",
       "    </tr>\n",
       "    <tr>\n",
       "      <th>4</th>\n",
       "      <td>10082597</td>\n",
       "      <td>METHODS: We report two cases of pseudoporphyri...</td>\n",
       "      <td>pseudoporphyria</td>\n",
       "      <td>620</td>\n",
       "      <td>635</td>\n",
       "      <td>oxaprozin</td>\n",
       "      <td>659</td>\n",
       "      <td>668</td>\n",
       "    </tr>\n",
       "  </tbody>\n",
       "</table>\n",
       "</div>"
      ],
      "text/plain": [
       "  PubMed_ID                                           Sentence   \n",
       "0  10030778      Intravenous azithromycin-induced ototoxicity.  \\\n",
       "1  10048291  Immobilization, while Paget's bone disease was...   \n",
       "2  10048291  Unaccountable severe hypercalcemia in a patien...   \n",
       "3  10082597  METHODS: We report two cases of pseudoporphyri...   \n",
       "4  10082597  METHODS: We report two cases of pseudoporphyri...   \n",
       "\n",
       "              Adverse_Effect Start_Offset_Dose End_Offset_Dose   \n",
       "0                ototoxicity                43              54  \\\n",
       "1  increased calcium-release               960             985   \n",
       "2              hypercalcemia                31              44   \n",
       "3            pseudoporphyria               620             635   \n",
       "4            pseudoporphyria               620             635   \n",
       "\n",
       "                 Drug Start_Offset_Drug End_Offset_Drug  \n",
       "0        azithromycin                22              34  \n",
       "1  dihydrotachysterol               908             926  \n",
       "2  dihydrotachysterol                94             112  \n",
       "3            naproxen               646             654  \n",
       "4           oxaprozin               659             668  "
      ]
     },
     "execution_count": 11,
     "metadata": {},
     "output_type": "execute_result"
    }
   ],
   "source": [
    "df.head()"
   ]
  },
  {
   "cell_type": "markdown",
   "id": "b822eed7",
   "metadata": {},
   "source": [
    "We only need the sentence, adverse_effect, and drug columns."
   ]
  },
  {
   "cell_type": "code",
   "execution_count": 13,
   "id": "ab94839c",
   "metadata": {},
   "outputs": [
    {
     "data": {
      "text/html": [
       "<div>\n",
       "<style scoped>\n",
       "    .dataframe tbody tr th:only-of-type {\n",
       "        vertical-align: middle;\n",
       "    }\n",
       "\n",
       "    .dataframe tbody tr th {\n",
       "        vertical-align: top;\n",
       "    }\n",
       "\n",
       "    .dataframe thead th {\n",
       "        text-align: right;\n",
       "    }\n",
       "</style>\n",
       "<table border=\"1\" class=\"dataframe\">\n",
       "  <thead>\n",
       "    <tr style=\"text-align: right;\">\n",
       "      <th></th>\n",
       "      <th>Sentence</th>\n",
       "      <th>Adverse_Effect</th>\n",
       "      <th>Drug</th>\n",
       "    </tr>\n",
       "  </thead>\n",
       "  <tbody>\n",
       "    <tr>\n",
       "      <th>0</th>\n",
       "      <td>Intravenous azithromycin-induced ototoxicity.</td>\n",
       "      <td>ototoxicity</td>\n",
       "      <td>azithromycin</td>\n",
       "    </tr>\n",
       "    <tr>\n",
       "      <th>1</th>\n",
       "      <td>Immobilization, while Paget's bone disease was...</td>\n",
       "      <td>increased calcium-release</td>\n",
       "      <td>dihydrotachysterol</td>\n",
       "    </tr>\n",
       "    <tr>\n",
       "      <th>2</th>\n",
       "      <td>Unaccountable severe hypercalcemia in a patien...</td>\n",
       "      <td>hypercalcemia</td>\n",
       "      <td>dihydrotachysterol</td>\n",
       "    </tr>\n",
       "    <tr>\n",
       "      <th>3</th>\n",
       "      <td>METHODS: We report two cases of pseudoporphyri...</td>\n",
       "      <td>pseudoporphyria</td>\n",
       "      <td>naproxen</td>\n",
       "    </tr>\n",
       "    <tr>\n",
       "      <th>4</th>\n",
       "      <td>METHODS: We report two cases of pseudoporphyri...</td>\n",
       "      <td>pseudoporphyria</td>\n",
       "      <td>oxaprozin</td>\n",
       "    </tr>\n",
       "  </tbody>\n",
       "</table>\n",
       "</div>"
      ],
      "text/plain": [
       "                                            Sentence   \n",
       "0      Intravenous azithromycin-induced ototoxicity.  \\\n",
       "1  Immobilization, while Paget's bone disease was...   \n",
       "2  Unaccountable severe hypercalcemia in a patien...   \n",
       "3  METHODS: We report two cases of pseudoporphyri...   \n",
       "4  METHODS: We report two cases of pseudoporphyri...   \n",
       "\n",
       "              Adverse_Effect                Drug  \n",
       "0                ototoxicity        azithromycin  \n",
       "1  increased calcium-release  dihydrotachysterol  \n",
       "2              hypercalcemia  dihydrotachysterol  \n",
       "3            pseudoporphyria            naproxen  \n",
       "4            pseudoporphyria           oxaprozin  "
      ]
     },
     "execution_count": 13,
     "metadata": {},
     "output_type": "execute_result"
    }
   ],
   "source": [
    "df = df[['Sentence', 'Adverse_Effect','Drug']]\n",
    "df.head()"
   ]
  },
  {
   "cell_type": "markdown",
   "id": "4c6db63c",
   "metadata": {},
   "source": [
    "Now we need to split the data into training and validation data."
   ]
  },
  {
   "cell_type": "code",
   "execution_count": 16,
   "id": "b332c21c",
   "metadata": {},
   "outputs": [],
   "source": [
    "from sklearn.model_selection import train_test_split\n",
    "\n",
    "train_df, val_df = train_test_split(df, test_size=0.15, random_state=101)"
   ]
  },
  {
   "cell_type": "code",
   "execution_count": 17,
   "id": "4ca543ad",
   "metadata": {},
   "outputs": [],
   "source": [
    "from transformers import AutoModel, AutoTokenizer\n",
    "\n",
    "# Downloading the model.\n",
    "model_name = \"dmis-lab/biobert-v1.1\"\n",
    "tokenizer = AutoTokenizer.from_pretrained(model_name)\n",
    "model = AutoModel.from_pretrained(model_name)\n",
    "\n",
    "# Tokenizing the sentences.\n",
    "train_encodings = tokenizer(train_df[\"Sentence\"].tolist(), truncation=True, padding=True)\n",
    "val_encodings = tokenizer(val_df[\"Sentence\"].tolist(), truncation=True, padding=True)"
   ]
  },
  {
   "cell_type": "code",
   "execution_count": null,
   "id": "f3790c85",
   "metadata": {},
   "outputs": [],
   "source": []
  }
 ],
 "metadata": {
  "kernelspec": {
   "display_name": "Python 3 (ipykernel)",
   "language": "python",
   "name": "python3"
  },
  "language_info": {
   "codemirror_mode": {
    "name": "ipython",
    "version": 3
   },
   "file_extension": ".py",
   "mimetype": "text/x-python",
   "name": "python",
   "nbconvert_exporter": "python",
   "pygments_lexer": "ipython3",
   "version": "3.11.1"
  }
 },
 "nbformat": 4,
 "nbformat_minor": 5
}
